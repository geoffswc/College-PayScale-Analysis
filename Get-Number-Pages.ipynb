{
 "cells": [
  {
   "cell_type": "code",
   "execution_count": 2,
   "metadata": {},
   "outputs": [
    {
     "name": "stdout",
     "output_type": "stream",
     "text": [
      "Requirement already satisfied: beautifulsoup4 in /anaconda3/lib/python3.6/site-packages (4.7.1)\n",
      "Requirement already satisfied: soupsieve>=1.2 in /anaconda3/lib/python3.6/site-packages (from beautifulsoup4) (1.7.1)\n"
     ]
    }
   ],
   "source": [
    "!pip install beautifulsoup4"
   ]
  },
  {
   "cell_type": "code",
   "execution_count": 10,
   "metadata": {},
   "outputs": [],
   "source": [
    "from bs4 import BeautifulSoup\n",
    "import requests"
   ]
  },
  {
   "cell_type": "code",
   "execution_count": 20,
   "metadata": {},
   "outputs": [],
   "source": [
    "html_doc = requests.get('https://www.payscale.com/college-salary-report/best-schools-by-majors/humanities').text"
   ]
  },
  {
   "cell_type": "code",
   "execution_count": 21,
   "metadata": {},
   "outputs": [],
   "source": [
    "soup = BeautifulSoup(html_doc, 'html.parser')"
   ]
  },
  {
   "cell_type": "code",
   "execution_count": 34,
   "metadata": {},
   "outputs": [
    {
     "data": {
      "text/plain": [
       "[<div class=\"pagination csr-gridpage__pagination\"><a class=\"pagination__btn pagination__prev-btn pagination__btn--off\"><div class=\"pagination__btn--inner\"><i class=\"icon-left-open\"></i></div></a><a class=\"pagination__btn pagination__btn--active\"><div class=\"pagination__btn--inner\">1</div></a><a class=\"pagination__btn\" href=\"/college-salary-report/best-schools-by-majors/humanities/page/2\"><div class=\"pagination__btn--inner\">2</div></a><a class=\"pagination__btn\" href=\"/college-salary-report/best-schools-by-majors/humanities/page/3\"><div class=\"pagination__btn--inner\">3</div></a><a class=\"pagination__btn pagination__ellipsis pagination__btn--off\"><div class=\"pagination__btn--inner\">…</div></a><a class=\"pagination__btn\" href=\"/college-salary-report/best-schools-by-majors/humanities/page/23\"><div class=\"pagination__btn--inner\">23</div></a><a class=\"pagination__btn pagination__next-btn\" href=\"/college-salary-report/best-schools-by-majors/humanities/page/2\"><div class=\"pagination__btn--inner\"><i class=\"icon-right-open\"></i></div></a></div>]"
      ]
     },
     "execution_count": 34,
     "metadata": {},
     "output_type": "execute_result"
    }
   ],
   "source": [
    "soup.find_all(\"div\",{\"class\":\"pagination\"})"
   ]
  },
  {
   "cell_type": "code",
   "execution_count": null,
   "metadata": {},
   "outputs": [],
   "source": []
  }
 ],
 "metadata": {
  "kernelspec": {
   "display_name": "Python 3 (ipykernel)",
   "language": "python",
   "name": "python3"
  },
  "language_info": {
   "codemirror_mode": {
    "name": "ipython",
    "version": 3
   },
   "file_extension": ".py",
   "mimetype": "text/x-python",
   "name": "python",
   "nbconvert_exporter": "python",
   "pygments_lexer": "ipython3",
   "version": "3.9.7"
  }
 },
 "nbformat": 4,
 "nbformat_minor": 2
}
