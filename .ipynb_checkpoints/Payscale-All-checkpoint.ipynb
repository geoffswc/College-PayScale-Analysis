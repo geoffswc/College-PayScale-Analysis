{
 "cells": [
  {
   "cell_type": "code",
   "execution_count": null,
   "metadata": {},
   "outputs": [],
   "source": [
    "import pandas as pd\n",
    "import requests"
   ]
  },
  {
   "cell_type": "code",
   "execution_count": null,
   "metadata": {},
   "outputs": [],
   "source": [
    "majors = ['humanities', 'computer-science', 'social-sciences', 'art', 'engineering', \n",
    "         'math', 'business', 'education', 'communication', 'physical-and-life-sciences',\n",
    "         'health-science']"
   ]
  },
  {
   "cell_type": "code",
   "execution_count": null,
   "metadata": {},
   "outputs": [],
   "source": [
    "all_pages = []\n",
    "i = 0\n",
    "for m in majors:\n",
    "    for i in range(15):\n",
    "        url = 'https://www.payscale.com/college-salary-report/best-schools-by-majors/' + m + '/page/' + str(i)\n",
    "        print(url)\n",
    "        df = pd.read_html(url)\n",
    "        df = df[0].iloc[1:,1:]\n",
    "        df.columns = ['school','early','late']\n",
    "\n",
    "        #df['school'] = df['school'].str.split(':')[1]\n",
    "        df.school = df.school.str.split(':').str[1]\n",
    "        df.early = df.early.str.split(':').str[1]\n",
    "        df.late = df.late.str.split(':').str[1]\n",
    "        df['major'] = m\n",
    "        all_pages.append(df)\n"
   ]
  },
  {
   "cell_type": "code",
   "execution_count": null,
   "metadata": {},
   "outputs": [],
   "source": [
    "df = pd.concat(all_pages)"
   ]
  },
  {
   "cell_type": "code",
   "execution_count": null,
   "metadata": {},
   "outputs": [],
   "source": [
    "df"
   ]
  },
  {
   "cell_type": "code",
   "execution_count": null,
   "metadata": {},
   "outputs": [],
   "source": []
  }
 ],
 "metadata": {
  "kernelspec": {
   "display_name": "Python 3",
   "language": "python",
   "name": "python3"
  },
  "language_info": {
   "codemirror_mode": {
    "name": "ipython",
    "version": 3
   },
   "file_extension": ".py",
   "mimetype": "text/x-python",
   "name": "python",
   "nbconvert_exporter": "python",
   "pygments_lexer": "ipython3",
   "version": "3.6.8"
  }
 },
 "nbformat": 4,
 "nbformat_minor": 2
}
